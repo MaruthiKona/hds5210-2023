{
  "cells": [
    {
      "cell_type": "markdown",
      "metadata": {
        "id": "TLJEJCAUvFUE"
      },
      "source": [
        "# Extra Credit\n",
        "\n",
        "For upto an additional 15 extra credit points on the midterm exam, you can write another function that applies additional criteria on top of what the midterm already did.  To earn the addition points, you need write a function called `summarize_results(patients)` to take the output of your  `process_people()` function to apply a new business rule and summarize the results.\n",
        "\n",
        "* Your function should take the dictionary created by `process_people()` as it's one input parameter: `patients`.\n",
        "* If the PRIEST probably is less than 10%, change the `hospital` and `address` to both have a value of `'Home'` indicating patients with a lower probability of an adverse outcome can just go home rather than be admitted to a hospital.\n",
        "* Summarize those results and count how many patients are now being sent to each location.  Your result should have the following format:\n",
        "```\n",
        "{\n",
        "    \"Home\": 123,\n",
        "    \"Hospital A\": 10,\n",
        "    \"Hospital B\": 20,\n",
        "    \"Hospital C\": 30\n",
        "}\n",
        "```\n",
        "\n",
        "As always, your function needs good docstrings; but does not require any doctests in this case."
      ]
    },
    {
      "cell_type": "code",
      "execution_count": 3,
      "metadata": {
        "id": "mbkJgjrivFUH",
        "outputId": "720759dc-4f01-4ca6-8de7-f06605a75e68",
        "colab": {
          "base_uri": "https://localhost:8080/"
        }
      },
      "outputs": [
        {
          "output_type": "stream",
          "name": "stdout",
          "text": [
            "{'Home': 2, 'Hospital B': 1}\n"
          ]
        }
      ],
      "source": [
        "def summarize_results(patients):\n",
        "    \"\"\"Summarize the results and count how many patients are being sent to each location.\n",
        "\n",
        "    Parameters:\n",
        "    - patients (dict): A dictionary containing patient data, created by process_people().\n",
        "\n",
        "    Returns:\n",
        "    - dict: A summarized dictionary indicating how many patients are being sent to each location.\n",
        "    \"\"\"\n",
        "\n",
        "    # Initialize a dictionary to hold the summarized results\n",
        "    summarized_results = {}\n",
        "\n",
        "    # Iterate through the patients' data\n",
        "    for patient_id, patient_data in patients.items():\n",
        "        # Extract the PRIEST probability and the hospital for the current patient\n",
        "        risk_pct = patient_data.get('PRIEST_probability', 0.0)\n",
        "        hospital = patient_data.get('hospital', 'Unknown')\n",
        "\n",
        "        # If the PRIEST probability is less than 10%, change the hospital to 'Home'\n",
        "        if risk_pct < 0.10:\n",
        "            hospital = 'Home'\n",
        "\n",
        "        # Update the count for the hospital in the summarized results\n",
        "        summarized_results[hospital] = summarized_results.get(hospital, 0) + 1\n",
        "\n",
        "    return summarized_results\n",
        "\n",
        "# Example usage:\n",
        "# Create the patients dictionary using your process_people() function\n",
        "# Replace the example data below with your actual data\n",
        "patients_data = {\n",
        "    \"patient1\": {\"PRIEST_probability\": 0.08, \"hospital\": \"Hospital A\"},\n",
        "    \"patient2\": {\"PRIEST_probability\": 0.15, \"hospital\": \"Hospital B\"},\n",
        "    \"patient3\": {\"PRIEST_probability\": 0.06, \"hospital\": \"Hospital A\"},\n",
        "}\n",
        "\n",
        "# Using the function with the patients' data\n",
        "summary = summarize_results(patients_data)\n",
        "print(summary)\n",
        "\n"
      ]
    },
    {
      "cell_type": "code",
      "execution_count": null,
      "metadata": {
        "id": "-s7n2eHMvFUH"
      },
      "outputs": [],
      "source": []
    }
  ],
  "metadata": {
    "kernelspec": {
      "display_name": ".venv",
      "language": "python",
      "name": "python3"
    },
    "language_info": {
      "codemirror_mode": {
        "name": "ipython",
        "version": 3
      },
      "file_extension": ".py",
      "mimetype": "text/x-python",
      "name": "python",
      "nbconvert_exporter": "python",
      "pygments_lexer": "ipython3",
      "version": "3.9.16"
    },
    "colab": {
      "provenance": []
    }
  },
  "nbformat": 4,
  "nbformat_minor": 0
}