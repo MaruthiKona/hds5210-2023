{
  "cells": [
    {
      "cell_type": "markdown",
      "metadata": {
        "id": "TXCbZDwebu1p"
      },
      "source": [
        "# Week 13 Extra Credit - How will ChatGPT do on your final project idea?\n",
        "\n",
        "This extra credit assignment is entirely optional.  You do not need to do it.\n",
        "\n",
        "If you would like the opportunity to earn up to 5 extra credit points, complete this assignment and submit it via GitHub as normal before Monday, November 27 at 11:59 PM CST.  No late submissions will be accepted.  The file must be saved to your week13 folder in GitHub."
      ]
    },
    {
      "cell_type": "markdown",
      "metadata": {
        "id": "GngUICCZbu1u"
      },
      "source": [
        "## Part 1: Have a conversation with ChatGPT\n",
        "\n",
        "I want you to have a conversation with ChatGPT about your final project idea.  Find out what it thinks about your idea and if it has any data sources (URLs for specific sites) that could be helpful.  Below, either include copy/paste the chat history from your conversation or include a link to the shared chat.  (ChatGPT has an [option to share a link to a specific conversation](https://help.openai.com/en/articles/7925741-chatgpt-shared-links-faq).  It's the up-arrow icon in the upper-right corner of your chat window.)\n",
        "\n",
        "Take this conversationw with ChatGPT as far as you want, but at least ask three or four follow-up questions to refine the information you're getting back.\n",
        "\n",
        "If it starts giving you links to information, don't assume they're going to work. Remember that ChatGPT isn't perfect. So, follow the links and make sure there's information there that matches what ChatGPT says you will find."
      ]
    },
    {
      "cell_type": "markdown",
      "metadata": {
        "id": "N-kAwTbubu1v"
      },
      "source": [
        "**RESPONSE**\n",
        "\n",
        "https://chat.openai.com/share/e3d27ca8-c7d9-4f89-89c1-89935cd2eaf3"
      ]
    },
    {
      "cell_type": "markdown",
      "metadata": {
        "id": "PDmO2R7jbu1w"
      },
      "source": [
        "### Part 2: Your reflection\n",
        "\n",
        "Below, tell me what you think ChatGPT did well or not well in your conversation.  Was it good at finding data that you needed?  Was it good at finding actual links that worked?  Did its responses make sense to you?  What did it do well / not well?\n",
        "\n",
        "Your response below should be several sentences.  If you don't have enough feedback, expand your conversation with ChatGPT.  Ask it refine your project idea or start writing code for you.  See what it can do."
      ]
    },
    {
      "cell_type": "markdown",
      "metadata": {
        "id": "ReLVpIzrbu1x"
      },
      "source": [
        "**RESPONSE**\n",
        "\n",
        "ChatGPT exhibited its capability in providing helpful recommendations for refining the dataset in the context of your final project during our talk. It provided intelligent recommendations on data sources relevant to liver cirrhosis, leading to a thorough investigation of prospective information. It should be noted, however, that the AI model does not generate clickable links, forcing human searches for the recommended sources. The responses were well-structured and concise, resulting in a smooth flow of information. It illustrates that, while ChatGPT can provide important insights, information verification and communication with domain experts remain critical, particularly in medical research jobs where accuracy is critical.\n"
      ]
    },
    {
      "cell_type": "markdown",
      "metadata": {
        "id": "JESc9IxZbu1y"
      },
      "source": [
        "### Submitting\n",
        "\n",
        "Submit this as normal to GitHub with the name `wee13/week13_extra_credit.ipynb`"
      ]
    },
    {
      "cell_type": "markdown",
      "metadata": {
        "id": "VwqOyIOxbu1z"
      },
      "source": []
    }
  ],
  "metadata": {
    "language_info": {
      "name": "python"
    },
    "colab": {
      "provenance": []
    }
  },
  "nbformat": 4,
  "nbformat_minor": 0
}