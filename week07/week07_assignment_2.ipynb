{
  "cells": [
    {
      "cell_type": "markdown",
      "metadata": {
        "id": "k3jLatNCZrVa"
      },
      "source": [
        "# Week 7 Assignment\n",
        "\n",
        "We've been working with different types of data structures in Python (dictionary, list, etc), how those are represented in JSON documents, and how to write code to access specific data elements. In this week's assignment, you will need to create your own JSON document to store information about yourself and the grades you've received from week 1 to week 4 and the week 6 quiz.  That is, everything you should have received a grade for.  Then you'll need to show me you know how to navigate the JSON in that file.\n",
        "\n",
        "Different from what we've done in the past, you do not have to write any functions or include any docstrings.  Just create some JSON and write some code.\n",
        "\n",
        "---"
      ]
    },
    {
      "cell_type": "markdown",
      "metadata": {
        "id": "vPu2pVrYZrVe"
      },
      "source": [
        "## 7.1 Create a JSON string\n",
        "\n",
        "Create a JSON string that contains your name, email, year you were born, all of the grades you've received back so far, and a comment about what you thought was most challenging on each of those assignments.  This can be any structure you choose, but make sure it uses a dictionary and a list, and has at least two levels of hierarchy.  That is, it can't just be one big long list."
      ]
    },
    {
      "cell_type": "markdown",
      "metadata": {
        "id": "cFji4X4ZZrVf"
      },
      "source": [
        "First, explain how your data structure is going to look..."
      ]
    },
    {
      "cell_type": "markdown",
      "metadata": {
        "id": "nLK8wKlBZrVf"
      },
      "source": [
        "The JSON data represents information for me, including my name, email address, birth details, grades for assignments, and comments on each assignment, all organized in a structured format using dictionaries and lists.\n",
        "\n"
      ]
    },
    {
      "cell_type": "markdown",
      "metadata": {
        "id": "JU-4Z2jcZrVf"
      },
      "source": [
        "Then put the actual JSON you've created inside the multiline string below..."
      ]
    },
    {
      "cell_type": "code",
      "execution_count": 111,
      "metadata": {
        "id": "l121jwiIZrVf"
      },
      "outputs": [],
      "source": [
        "hds5210 = \"\"\"\n",
        "{\n",
        "  \"name\": \"MARUTHI KONA\",\n",
        "  \"email address\": \"maruthi.kona@slu.edu\",\n",
        "  \"year_born\": 1998,\n",
        "\n",
        "   \"grades_and_comments\":\n",
        "     \"week1\": {\"grade\": 10, \"Comment\": \"Found the content intresting.\",\n",
        "     \"week2\": {\"grade\": 10, \"Comment\": \"Tricky but effective\"},\n",
        "     \"week3\": {\"grade\": 10, \"Comment\": \"Enjoyed performing the task.\"},\n",
        "     \"week4\": {\"grade\": 10, \"Comment\": \"Enjoyed finishing this assignment.\"},\n",
        "     \"week6\": {\"grade\": 5, \"Comment\": \"Experienced difficulty in grasping specific concepts.\"}\n",
        "     }\n",
        "}\n",
        "\"\"\""
      ]
    },
    {
      "cell_type": "markdown",
      "metadata": {
        "id": "8dv0IuUdZrVg"
      },
      "source": [
        "## 7.2 Do something with your JSON\n",
        "\n",
        "Now use Python code to do something with the Json above.  Turn it into English text, but make sure that you use at least one loop to access some dict or list content of your JSON.  Below, I've provided some basic code to read in the string above as JSON and return a Python object.  Your job is to work with that data structure and print out the important information like your name, email, and how you did on each assignment."
      ]
    },
    {
      "cell_type": "code",
      "execution_count": 112,
      "metadata": {
        "colab": {
          "base_uri": "https://localhost:8080/"
        },
        "id": "UCjh-2RXZrVg",
        "outputId": "3de84561-7c20-4346-a3ce-343360c137d3"
      },
      "outputs": [
        {
          "output_type": "stream",
          "name": "stdout",
          "text": [
            "Hello, my name is MARUTRHI KONA.\n",
            "My email is maruthi.kona@slu.edu.\n",
            "I was born on 1998.\n",
            "Throughout the course, I have been actively engaged in various weekly assignments, earning grades such as 10 in Week 1, where I found the task very fascinating.\n",
            "Week 2 posted challenges that were ultimately satisfying, reflected in my grade of 9.5.\n",
            "Week 4 proved more complex, resulting in a grade of 10, as I struggled a little with the intricacies.\n",
            "In Week 6, I faced challenges in understanding some concepts, leading to a grade of 5.\n",
            "\n"
          ]
        }
      ],
      "source": [
        "import json\n",
        "\n",
        "hds5210 = '''\n",
        "{\n",
        "   \"name\": \"MARUTRHI KONA\",\n",
        "   \"email\": \"maruthi.kona@slu.edu\",\n",
        "   \"year\": 1998,\n",
        "   \"grades_and_comments\": {\n",
        "    \"week1\": {\"grade\": 10, \"comment\": \"Found the content interesting.\"},\n",
        "    \"week2\": {\"grade\": 9.5, \"comment\": \"Tricky but effective.\"},\n",
        "    \"week4\": {\"grade\": 10, \"comment\": \"Enjoyed finishing this assignment.\"},\n",
        "    \"week6\": {\"grade\": 5, \"comment\": \"Experienced difficulty in grasping specific concepts.\"}\n",
        "   }\n",
        "}\n",
        "'''\n",
        "\n",
        "info = json.loads(hds5210)\n",
        "\n",
        "paragraph = (\n",
        "    f\"Hello, my name is {info['name']}.\\n\"\n",
        "    f\"My email is {info['email']}.\\n\"\n",
        "    f\"I was born on {info['year']}.\\n\"\n",
        "    f\"Throughout the course, I have been actively engaged in various weekly assignments, earning grades such as {info['grades_and_comments']['week1']['grade']} in Week 1, where I found the task very fascinating.\\n\"\n",
        "    f\"Week 2 posted challenges that were ultimately satisfying, reflected in my grade of {info['grades_and_comments']['week2']['grade']}.\\n\"\n",
        "    f\"Week 4 proved more complex, resulting in a grade of {info['grades_and_comments']['week4']['grade']}, as I struggled a little with the intricacies.\\n\"\n",
        "    f\"In Week 6, I faced challenges in understanding some concepts, leading to a grade of {info['grades_and_comments']['week6']['grade']}.\\n\"\n",
        ")\n",
        "\n",
        "print(paragraph)\n",
        "\n"
      ]
    },
    {
      "cell_type": "markdown",
      "metadata": {
        "id": "u4P1p72UZrVg"
      },
      "source": [
        "## 7.3 Reflect\n",
        "\n",
        "Write a paragraph on any reflections you have. Was this hard? Easy?  What parts were most challenging or easiest? What did you like or dislike about the assignment?  Share whatever important thoughts you have abou this assignment."
      ]
    },
    {
      "cell_type": "markdown",
      "metadata": {
        "id": "25_GYKslZrVg"
      },
      "source": [
        "This work was interesting and challenging at the same time. It improved problem-solving abilities because it demanded a close inspection of JSON data. The most difficult component, which was a fantastic learning experience that enhanced my Python skills and underlined the value of accuracy, was creating logical phrases from complex data. It was a useful experience for data management despite the challenges."
      ]
    },
    {
      "cell_type": "markdown",
      "metadata": {
        "id": "AfkefbEIZrVh"
      },
      "source": [
        "---\n",
        "\n",
        "# Example\n",
        "\n",
        "Below is an example of something similar, but this uses information my and my friend's kids instead of grades."
      ]
    },
    {
      "cell_type": "code",
      "execution_count": 113,
      "metadata": {
        "id": "tD43Cp8dZrVh",
        "outputId": "8b02f224-9abb-49c4-bd63-1ba61948eb76",
        "colab": {
          "base_uri": "https://localhost:8080/"
        }
      },
      "outputs": [
        {
          "output_type": "stream",
          "name": "stdout",
          "text": [
            "Hi, my name is Paul. I've got 3 kids. Their names are Ellie, Ada, Teddy.\n",
            "My friend, Anny has 1 kids. That's fewer than me. Their names are 1\n"
          ]
        }
      ],
      "source": [
        "hds5210 = \"\"\"\n",
        "{\n",
        "    \"me\": {\n",
        "        \"name\": \"Paul\",\n",
        "        \"kids\": [\"Ellie\", \"Ada\", \"Teddy\"]\n",
        "    },\n",
        "    \"friend\": {\n",
        "        \"name\": \"Anny\",\n",
        "        \"kids\": [\"Abby\"]\n",
        "    }\n",
        "}\n",
        "\"\"\"\n",
        "\n",
        "import json\n",
        "\n",
        "info = json.loads(hds5210)\n",
        "\n",
        "me = info[\"me\"][\"name\"]\n",
        "my_kids_count = len(info[\"me\"][\"kids\"])\n",
        "kids_list = \", \".join(info[\"me\"][\"kids\"])\n",
        "friend = info[\"friend\"][\"name\"]\n",
        "friends_kid_count = len(info[\"friend\"][\"kids\"])\n",
        "friend_kids = \", \".join(info[\"friend\"][\"kids\"])\n",
        "compare = \"more\" if friends_kid_count > my_kids_count else \"fewer\"\n",
        "\n",
        "print(f\"Hi, my name is {me}. I've got {my_kids_count} kids. Their names are {kids_list}.\")\n",
        "print(f\"My friend, {friend} has {friends_kid_count} kids. That's {compare} than me. Their names are {friends_kid_count}\")"
      ]
    }
  ],
  "metadata": {
    "kernelspec": {
      "display_name": "Python 3",
      "language": "python",
      "name": "python3"
    },
    "language_info": {
      "codemirror_mode": {
        "name": "ipython",
        "version": 3
      },
      "file_extension": ".py",
      "mimetype": "text/x-python",
      "name": "python",
      "nbconvert_exporter": "python",
      "pygments_lexer": "ipython3",
      "version": "3.9.16"
    },
    "colab": {
      "provenance": []
    }
  },
  "nbformat": 4,
  "nbformat_minor": 0
}